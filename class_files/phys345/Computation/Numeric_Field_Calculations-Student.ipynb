{
 "cells": [
  {
   "cell_type": "markdown",
   "metadata": {},
   "source": [
    "# Numerically Computing Fields\n",
    "---\n",
    "We have seen the math relating source charge distributions to various electric fields and potentials. In many cases, the source charge distributions can be complicated to the point where the math for calculating these fields can become daunting or downright impossible. In these situations, our only method of determining these fields may be to do so numerically. Today we will work through the process necessary to numerically calculate an electric field and corresponding potential from an arbitrary initial charge distribution.\n",
    "\n",
    "<div class='alert alert-success'>\n",
    "<b>Today's Goal:</b> To take an array of charge density data and numerically compute the corresponding electric field lines and equipotentials.\n",
    "</div>\n",
    "<br>\n",
    "\n",
    "#### Table of Contents:\n",
    "1. [Getting the image](#get_image)\n",
    "2. [Scaling the density correctly](#scaling)\n",
    "3. [Field and potential at a point](#point)\n",
    "4. [Field and potential everywhere](#everywhere)\n",
    "5. [Visualizing your results](#vis)\n",
    "6. [Improving Accuracy](#upscale)\n",
    "7. [Smile!](#smile)"
   ]
  },
  {
   "cell_type": "markdown",
   "metadata": {},
   "source": [
    "## Part A: Getting the Image <a name='get_image'></a>\n",
    "To begin, we are going to need some representation of a source charge distribution. We could created this by somehow entering into a matrix the charge distribution at every point in our area of interest, but that would be tedious. Instead, we can take an image that already has that information encoded into it in the form of color! (Or in this case, shades of gray.) Initially, we'll look at the source charge distribution shown here:\n",
    "<img src='LineAndPoint.png' alt='Source Charges' width='300px' style='transform:rotate(180deg)'>\n",
    "Ideally, this should remind you of a line charge combined with a point charge, where the line charge has a positive charge density and the point charge a negative charge density. This is a fairly simple system, so it is one that we'll be able to compare to our analytic results to check ourselves and make sure everything is going well."
   ]
  },
  {
   "cell_type": "markdown",
   "metadata": {},
   "source": [
    "I have taken care of a function to import the image and convert it to the necessary numpy array below. In case you want to follow along in the code though, I'll highlight the steps here:\n",
    "* Read in the image using PIL\n",
    "* Convert the image to grayscale in case it already isn't\n",
    "* Resize the image to some desired dimensions (default does not resize)\n",
    "* Create the image array\n",
    "* Shift the array values to account for having both positive and negative charge densities"
   ]
  },
  {
   "cell_type": "code",
   "execution_count": 1,
   "metadata": {},
   "outputs": [],
   "source": [
    "%matplotlib inline\n",
    "import matplotlib.pyplot as plt\n",
    "import numpy as np\n",
    "from PIL import Image\n",
    "from scipy import stats\n",
    "\n",
    "def loadImage(fname, des_size=None):\n",
    "    img = Image.open(fname)\n",
    "    img = img.convert('L')\n",
    "    orig_size = img.size\n",
    "    if des_size is not None:\n",
    "        img = img.resize((des_size, des_size))\n",
    "    img = np.asarray(img)/255\n",
    "    background = stats.mode(img, axis=None)[0][0]\n",
    "    return img - background"
   ]
  },
  {
   "cell_type": "markdown",
   "metadata": {},
   "source": [
    "### <font color='orange'> Your Turn </font>\n",
    "Load in the image `LineAndPoint.png` and save it as `src`. Display the image using `imshow` and include a color bar. Make sure you set your image origin to `'lower'` or else it won't be oriented the same as the image above. Also, this is a excellent case of diverging properties (some positive, some negative) so it would be good to use a diverging colormap (choose your favorite!)."
   ]
  },
  {
   "cell_type": "code",
   "execution_count": 2,
   "metadata": {},
   "outputs": [],
   "source": [
    "# Your Code Here!"
   ]
  },
  {
   "cell_type": "markdown",
   "metadata": {},
   "source": [
    "## Part B: Scaling the Density <a name='scaling'></a>\n",
    "We need to be careful to make sure we get a charge density array that reflects reality, and not some arbitrary number. As such, we'll need to scale the array to correctly get the desired charge densities. Suppose one side of the image originally measured 30cm, and you know the line charge should have a charge density of 50$\\mu$C/cm$^2$."
   ]
  },
  {
   "cell_type": "markdown",
   "metadata": {},
   "source": [
    "### <font color='orange'> Your Turn </font>\n",
    "Determine what constant you need to multiply the array by so that each pixel has the correct charge density. Then multiply your `src` array by this scaling factor and save it as `sc_src`. Confirm that `sc_src` has the correct maximum value now of 50$\\mu$C/cm$^2$.\n",
    "\n",
    "*Hint: It might be useful to look at things dimensionally and think about how many pixels exist per image length.*"
   ]
  },
  {
   "cell_type": "code",
   "execution_count": 4,
   "metadata": {},
   "outputs": [],
   "source": [
    "# Enter Your Code Here"
   ]
  },
  {
   "cell_type": "markdown",
   "metadata": {},
   "source": [
    "## Part C: Field and Potential at a Point <a name='point'></a>\n",
    "In order to calculate the electric field and electric potentials at all the points in the array, you are first going to need to be able to calculate the electric field and potential at a specific point. Since you are going to need to repeat this calculation multiple times, it makes the most sense to define these as functions, where you pass some information into the function and you get out the desired field or potential. Your goal below will be to fill in the missing code so that the functions will return correct values of $\\vec E$ and $V$."
   ]
  },
  {
   "cell_type": "markdown",
   "metadata": {},
   "source": [
    "### <font color='orange'>Your Turn</font>\n",
    "For your electric field you are going to input two values: the location of the point in question $(x,y)$ and the scaled charge distribution. You want to return two values: the x-component of the electric field (Ex) and the y-component of the electric field (Ey).\n",
    "\n",
    "You'll want to remember a few important things. When indexing 2d arrays, remember that the order looks more like `src[y,x]` instead of the conventional $x,y$. And then think about what the components of the electric field look like due to a point charge, and then how you could build up the electric field due to the entire charge distribution (super-position is amazing!)."
   ]
  },
  {
   "cell_type": "code",
   "execution_count": 7,
   "metadata": {},
   "outputs": [],
   "source": [
    "def calc_Efield( pt, sc_src ):\n",
    "    width, height =sc_src.shape\n",
    "    # YOUR CODE HERE\n",
    "    \n",
    "    return Ex, Ey"
   ]
  },
  {
   "cell_type": "markdown",
   "metadata": {},
   "source": [
    "Check your function by making sure that the electric field at the point $(9,9)$ is equal to (0,1.04) GV/m:"
   ]
  },
  {
   "cell_type": "code",
   "execution_count": 9,
   "metadata": {},
   "outputs": [],
   "source": [
    "# Your code here"
   ]
  },
  {
   "cell_type": "markdown",
   "metadata": {},
   "source": [
    "Now we are going to want to do something similar, but instead of calculating the electric field at some arbitrary point, we want to calculate the electric *potential* at that point. We'll be inputting the same values but this time just outputting the electric potential (no components, since potential is a scalar). Much of your code here might look similar to your above electric field function, but there should be a few important differences."
   ]
  },
  {
   "cell_type": "code",
   "execution_count": 11,
   "metadata": {},
   "outputs": [],
   "source": [
    "def calc_Potential( pt, sc_src ):\n",
    "    width, height = sc_src.shape\n",
    "    # Insert your code here!\n",
    "    \n",
    "    return V"
   ]
  },
  {
   "cell_type": "markdown",
   "metadata": {},
   "source": [
    "Again, you should check your function at the point (9,9) to see if you get a value of about 8.68 GV."
   ]
  },
  {
   "cell_type": "code",
   "execution_count": null,
   "metadata": {},
   "outputs": [],
   "source": [
    "# Your code here"
   ]
  },
  {
   "cell_type": "markdown",
   "metadata": {},
   "source": [
    "## Part D: Field over the entire Space <a name='everywhere'></a>\n",
    "Now that you have a function to calculate the electric field and potential at any point, we can repeatedly apply that function across the entire space to build up an image of the surrounding electric field. Since you need to calculate both the electric field and the potential throughout the space, you might as well calculate them both in the same loops."
   ]
  },
  {
   "cell_type": "markdown",
   "metadata": {},
   "source": [
    "### <font color='orange'>Your Turn</font>\n",
    "To get you started, I've initialized arrays for the x and y components of the electric field and the potential to start initially at zero. Complete the code necessary to calculate the electric field and potentials at all points in the image.\n",
    "\n",
    "*Note: For a 19x19 array, this should run pretty quickly. For higher resolution images though (and thus for higher accuracy plots), this process might take a little bit!*"
   ]
  },
  {
   "cell_type": "code",
   "execution_count": 14,
   "metadata": {},
   "outputs": [],
   "source": [
    "# Initializing desired outputs to 0\n",
    "x_efield = np.zeros(sc_src.shape)\n",
    "y_efield = np.zeros(sc_src.shape)\n",
    "V = np.zeros(sc_src.shape)\n",
    "w,h = sc_src.shape\n",
    "\n",
    "# Your code goes here!"
   ]
  },
  {
   "cell_type": "markdown",
   "metadata": {},
   "source": [
    "## Part E: Visualization and Validity <a name='vis'></a>\n",
    "To check how everything went, the best way is likely to visualize what you just calculated above. Depending on how it looks, you might need to check back in with your above code to make sure everything is looking decent."
   ]
  },
  {
   "cell_type": "markdown",
   "metadata": {},
   "source": [
    "### <font color='orange'> Your Turn </font>\n",
    "Make a quiver plot of the electric field vectors overlaid atop the image of the charge density. Make sure you choose your color maps so that everything is visible and easy to read. As always, don't forget to include titles or other important plot information!"
   ]
  },
  {
   "cell_type": "code",
   "execution_count": 16,
   "metadata": {},
   "outputs": [],
   "source": [
    "# Your code here!"
   ]
  },
  {
   "cell_type": "markdown",
   "metadata": {},
   "source": [
    "Comment about how you expected the above electric fields to look, and if your plot seems to agree with that expectation. What major indicators were you looking for? Are there any locations in the plot that don't seem to agree with your expectations? If things are badly wrong, feel free to go back up and check your code, but keep your comments below as to what initially caused you to know something was wrong."
   ]
  },
  {
   "cell_type": "markdown",
   "metadata": {},
   "source": [
    "<div style='background-color:#ffd08c; padding:15px 15px 15px 15px; border-radius:5px;'>\n",
    "\n",
    "    Enter your answer here! (Double click to enter the markdown cell...)\n",
    "    \n",
    "</div>"
   ]
  },
  {
   "cell_type": "markdown",
   "metadata": {},
   "source": [
    "Now go ahead and make a contour plot of the potential, and again overlay it atop the charge distribution map. Make sure to include labels for your contours."
   ]
  },
  {
   "cell_type": "code",
   "execution_count": 18,
   "metadata": {},
   "outputs": [],
   "source": [
    "# Your code here!"
   ]
  },
  {
   "cell_type": "markdown",
   "metadata": {},
   "source": [
    "Again, comment on if this plot of the electric equipotentials looks as you might have guessed. What might look as expected? What looks different? What do you think might be causing any discrepancies?"
   ]
  },
  {
   "cell_type": "markdown",
   "metadata": {},
   "source": [
    "<div style='background-color:#ffd08c; padding:15px 15px 15px 15px; border-radius:5px;'>\n",
    "\n",
    "    Enter your answer here! (Double click to enter the markdown cell...)\n",
    "    \n",
    "</div>"
   ]
  },
  {
   "cell_type": "markdown",
   "metadata": {},
   "source": [
    "## <font color='orange'>Part F: Upscaling</font> <a name='upscale'></a>\n",
    "An important factor of what we've done above is that we \"discretized\" what are technically continuous chunks of charge up into discrete pixel pieces. The accuracy of the model then though depends heavily on how large our discrete pieces of charge are. To see this, repeat the basic steps of A-E but this time loading the image in with a size of 100 pixels per side. So you should:\n",
    "* Load in the same image but with a `des_size` of 100\n",
    "* Rescale the returned array again (Your scaling factor should change here, so be careful!)\n",
    "* Recalculate the electric field and potential over the full charge distribution space (this will *definitely* take longer to run this time, but shouldn't be more than 5-8 minutes)\n",
    "* Make new plots of the electric field vectors and the equipotential lines just as you did above for the new scaling."
   ]
  },
  {
   "cell_type": "code",
   "execution_count": 20,
   "metadata": {},
   "outputs": [],
   "source": [
    "# Insert your code here!"
   ]
  },
  {
   "cell_type": "markdown",
   "metadata": {},
   "source": [
    "Now, you likely wrote about some anomolies that you noticed in your electric field vectors or equipotentials initially. Have those issues been fixed with the smaller pieces? If they still exist, do you think decreasing the piece size even more would remedy the issue or are here other issues with the model we are using?"
   ]
  },
  {
   "cell_type": "markdown",
   "metadata": {},
   "source": [
    "<div style='background-color:#ffd08c; padding:15px 15px 15px 15px; border-radius:5px;'>\n",
    "\n",
    "    Enter your answer here! (Double click to enter the markdown cell...)\n",
    "    \n",
    "</div>"
   ]
  },
  {
   "cell_type": "markdown",
   "metadata": {},
   "source": [
    "## <font color='orange'>Time to Smile!</font> <a name='smile'/>\n",
    "Open your favorite painting program, or navigate your way to [here](https://sketch.io/sketchpad/) for an online version. Your task is to create a grayscale smiley face to use as your source charge density. Set your background to a middle gray color, and be sure to use both lighter and darker shades of gray for your more positive or negative charge distributions. As a word of warning, the image gets flipped when read into Jupyter, so draw it upside-down if you want it to show rightside up here!\n",
    "\n",
    "Repeat your above calculations, setting your maximum charge density to 10 $\\mu$C/m$^3$ and plotting the electric field and potentials around your smiley face. Do things look as you'd think?"
   ]
  },
  {
   "cell_type": "code",
   "execution_count": 23,
   "metadata": {},
   "outputs": [],
   "source": [
    "# Code to load and display your image"
   ]
  },
  {
   "cell_type": "code",
   "execution_count": 24,
   "metadata": {},
   "outputs": [],
   "source": [
    "# Code to calculate fields and potentials"
   ]
  },
  {
   "cell_type": "code",
   "execution_count": 25,
   "metadata": {},
   "outputs": [],
   "source": [
    "# Code to display final plots of field and potentials"
   ]
  }
 ],
 "metadata": {
  "kernelspec": {
   "display_name": "Python 3",
   "language": "python",
   "name": "python3"
  },
  "language_info": {
   "codemirror_mode": {
    "name": "ipython",
    "version": 3
   },
   "file_extension": ".py",
   "mimetype": "text/x-python",
   "name": "python",
   "nbconvert_exporter": "python",
   "pygments_lexer": "ipython3",
   "version": "3.7.0"
  }
 },
 "nbformat": 4,
 "nbformat_minor": 2
}
