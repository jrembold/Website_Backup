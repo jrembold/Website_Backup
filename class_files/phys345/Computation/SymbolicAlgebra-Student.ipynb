{
 "cells": [
  {
   "cell_type": "markdown",
   "metadata": {},
   "source": [
    "# Symbolic Algebra in Python\n",
    "---\n",
    "\n",
    "Computers are inherently excellent at doing numeric calculations. By default, they are not nearly as capable of doing the types of symbolic manipulation you might do in an algebra or calculus class, and thus software like Mathematica and Maple exists. We can get similar functionality in Python (for free!) by using the `Sympy` module. This notebook is intended as a sort of crash course in the basics of Sympy functionality.\n",
    "\n",
    "<div class='alert alert-success'>\n",
    "<b>Today's Goal:</b> To achieve a working knowledge of the basics of Sympy so that it can be used to assist with homework.\n",
    "</div>\n",
    "<br>\n",
    "\n",
    "#### Table of Contents\n",
    "0. [Setup](#setup)\n",
    "1. [Manipulating Functions](#manip)\n",
    "2. [Basic Calculus](#calc)\n",
    "3. [Vector Calculus](#vcalc)"
   ]
  },
  {
   "cell_type": "markdown",
   "metadata": {},
   "source": [
    "## 0. Setup <a name='setup'></a>\n",
    "If you installed Python through the Anaconda distribution, you should already have Sympy on your system and you just need to import it:"
   ]
  },
  {
   "cell_type": "code",
   "execution_count": 5,
   "metadata": {},
   "outputs": [],
   "source": [
    "import sympy as sym"
   ]
  },
  {
   "cell_type": "markdown",
   "metadata": {},
   "source": [
    "I almost always import sympy as sym, but if you are **only** going to be using Sympy in a notebook, you can eliminate some repetitive typing by using `from sympy import *` instead. Use this only if you understand name-spaces enough to keep yourself out of trouble though!\n",
    "\n",
    "The above is all we'd need to get Sympy working. However, we can also ask it to use LaTeX in our notebook to output the equations all pretty! To do so, we just need to run"
   ]
  },
  {
   "cell_type": "code",
   "execution_count": 6,
   "metadata": {},
   "outputs": [],
   "source": [
    "sym.init_printing()"
   ]
  },
  {
   "cell_type": "markdown",
   "metadata": {},
   "source": [
    "Now we are good to go! Sympy isn't the lightest of modules, so I'd generally recommend you only import it if you are actually going to be using it in a notebook."
   ]
  },
  {
   "cell_type": "markdown",
   "metadata": {},
   "source": [
    "<div class='alert alert-info'>\n",
    "Jupyter notebooks have a built in <b>help</b> functionality through the use of <code>?</code>. If you ever need to get more information about what inputs a function has or some examples on how to use it, a good place to start is always with <code>function_name?</code>. This will pop up a help window in the bottom of your notebook that you can use as a reference. For quick questions, it is almost always faster than googling for an answer!\n",
    "</div>"
   ]
  },
  {
   "cell_type": "markdown",
   "metadata": {},
   "source": [
    "## 1. Creating and Manipulating Functions <a name='manip'></a>\n",
    "When dealing with symbols in a programming environment, we immediately run upon a small conundrum. In programming we use variables to refer to various numeric values. For instance we might assign `x = 10`. However, when we are doing symbolic math, our \"variables\" are _symbols_, and we won't be assigning a value to them. In order to be clear about what type of variable we are creating, we have to specifically state what variables we want to be _symbolic_ variables in Sympy. We do so by using `sym.symbols`:"
   ]
  },
  {
   "cell_type": "code",
   "execution_count": 7,
   "metadata": {},
   "outputs": [],
   "source": [
    "x, y, z = sym.symbols('x, y, z')"
   ]
  },
  {
   "cell_type": "markdown",
   "metadata": {},
   "source": [
    "The values on the left are what the programming variables will be named. The values in quotes on the right are the __symbolic__ variables those programming variables represent.\n",
    "\n",
    "<div class='alert alert-info'>\n",
    "Note that they don't necessarily have to match, so if you wanted to make your life miserable, you could do something like <code>x, y, z = sym.symbols('z,x,y')</code>, at which point whenever you used the variable <code>x</code>, you'd be referring to the symbolic variable <code>z</code>. I don't recommend this approach...\n",
    "</div>"
   ]
  },
  {
   "cell_type": "markdown",
   "metadata": {},
   "source": [
    "### Creating Expressions\n",
    "Once our variables are defined, we can use them to create functions!"
   ]
  },
  {
   "cell_type": "code",
   "execution_count": 8,
   "metadata": {},
   "outputs": [
    {
     "data": {
      "image/png": "[encoded data removed]",
      "text/latex": [
       "$$3 x + \\frac{4 y}{z^{2}}$$"
      ],
      "text/plain": [
       "      4⋅y\n",
       "3⋅x + ───\n",
       "        2\n",
       "       z "
      ]
     },
     "execution_count": 8,
     "metadata": {},
     "output_type": "execute_result"
    }
   ],
   "source": [
    "3*x + (4*y)/(z**2)"
   ]
  },
  {
   "cell_type": "markdown",
   "metadata": {},
   "source": [
    "You can see the pretty printing at work in the above expression. Note that you still need to use things like `**` for \"raised to the power of\" operators. Also, if you are needing other special functions like `sin` or `sqrt`, you'll need to use the Sympy versions. Below we'll assign our function to the variable `expr`."
   ]
  },
  {
   "cell_type": "code",
   "execution_count": 9,
   "metadata": {},
   "outputs": [
    {
     "data": {
      "image/png": "[encoded data removed]",
      "text/latex": [
       "$$3 x + \\frac{\\sqrt{5}}{5 \\sqrt{z}} \\cos{\\left (4 y \\right )}$$"
      ],
      "text/plain": [
       "      √5⋅cos(4⋅y)\n",
       "3⋅x + ───────────\n",
       "          5⋅√z   "
      ]
     },
     "execution_count": 9,
     "metadata": {},
     "output_type": "execute_result"
    }
   ],
   "source": [
    "expr = 3*x + sym.cos(4*y)/sym.sqrt(5*z)\n",
    "expr   # if you want the function to display after you create it, you need this"
   ]
  },
  {
   "cell_type": "markdown",
   "metadata": {},
   "source": [
    "### <font color='orange'>Your Turn</font>\n",
    "Create two expressions, one named `e1` and the other named `e2` corresponding to the below equations. If you need to declare any other symbolic variables, go ahead and do so.\n",
    "\n",
    "\\begin{align*}\n",
    "E_1(x,t) &= t(10+t)+5x \\\\\n",
    "E_2(x,t) &= x - 5\n",
    "\\end{align*}"
   ]
  },
  {
   "cell_type": "code",
   "execution_count": null,
   "metadata": {},
   "outputs": [],
   "source": [
    "# Your Code Here\n",
    "\n",
    "e1, e2  # This will just display both once you've defined them"
   ]
  },
  {
   "cell_type": "markdown",
   "metadata": {},
   "source": [
    "### Combining and Manipulating Expressions\n",
    "Once you've defined expressions, you can manipulate them just like other variables. So you can add, subtract, multiply, etc. For example:"
   ]
  },
  {
   "cell_type": "code",
   "execution_count": 11,
   "metadata": {},
   "outputs": [
    {
     "data": {
      "image/png": "[encoded data removed]",
      "text/latex": [
       "$$6 x + \\left(3 x + \\frac{\\sqrt{5}}{5 \\sqrt{z}} \\cos{\\left (4 y \\right )}\\right)^{2} + \\frac{2 \\sqrt{5}}{5 \\sqrt{z}} \\cos{\\left (4 y \\right )}$$"
      ],
      "text/plain": [
       "                         2                \n",
       "      ⎛      √5⋅cos(4⋅y)⎞    2⋅√5⋅cos(4⋅y)\n",
       "6⋅x + ⎜3⋅x + ───────────⎟  + ─────────────\n",
       "      ⎝          5⋅√z   ⎠         5⋅√z    "
      ]
     },
     "execution_count": 11,
     "metadata": {},
     "output_type": "execute_result"
    }
   ],
   "source": [
    "combined = expr**2 + 2*expr\n",
    "combined"
   ]
  },
  {
   "cell_type": "markdown",
   "metadata": {},
   "source": [
    "There are however some particular features of equations that we might want to take advantage of. One of the first, and most useful, is the `simplify` function. Simplify tries its best to rewrite the expression you've given it into the most simple form. It does a decent job, though sometimes \"simple\" is subjective."
   ]
  },
  {
   "cell_type": "code",
   "execution_count": 12,
   "metadata": {},
   "outputs": [
    {
     "data": {
      "image/png": "[encoded data removed]",
      "text/latex": [
       "$$6 x + \\frac{1}{25 z} \\left(15 x \\sqrt{z} + \\sqrt{5} \\cos{\\left (4 y \\right )}\\right)^{2} + \\frac{2 \\sqrt{5}}{5 \\sqrt{z}} \\cos{\\left (4 y \\right )}$$"
      ],
      "text/plain": [
       "                             2                \n",
       "      (15⋅x⋅√z + √5⋅cos(4⋅y))    2⋅√5⋅cos(4⋅y)\n",
       "6⋅x + ──────────────────────── + ─────────────\n",
       "                25⋅z                  5⋅√z    "
      ]
     },
     "execution_count": 12,
     "metadata": {},
     "output_type": "execute_result"
    }
   ],
   "source": [
    "combined.simplify()"
   ]
  },
  {
   "cell_type": "markdown",
   "metadata": {},
   "source": [
    "We can also `expand` an expression into all its parts, which will \"foil\" everything out:"
   ]
  },
  {
   "cell_type": "code",
   "execution_count": 13,
   "metadata": {},
   "outputs": [
    {
     "data": {
      "image/png": "[encoded data removed]",
      "text/latex": [
       "$$9 x^{2} + 6 x + \\frac{6 \\sqrt{5} x}{5 \\sqrt{z}} \\cos{\\left (4 y \\right )} + \\frac{1}{5 z} \\cos^{2}{\\left (4 y \\right )} + \\frac{2 \\sqrt{5}}{5 \\sqrt{z}} \\cos{\\left (4 y \\right )}$$"
      ],
      "text/plain": [
       "                                  2                     \n",
       "   2         6⋅√5⋅x⋅cos(4⋅y)   cos (4⋅y)   2⋅√5⋅cos(4⋅y)\n",
       "9⋅x  + 6⋅x + ─────────────── + ───────── + ─────────────\n",
       "                   5⋅√z           5⋅z           5⋅√z    "
      ]
     },
     "execution_count": 13,
     "metadata": {},
     "output_type": "execute_result"
    }
   ],
   "source": [
    "combined.expand()"
   ]
  },
  {
   "cell_type": "markdown",
   "metadata": {},
   "source": [
    "Or, in the opposite direction, we can `factor` an expression to try to factor out as many mutual terms as possible. Here note that I called `sym.factor` instead of using `.factor()`. You can generally use whichever notation you prefer! (However, `sym.factor?` will give you much more useful help than `combined.factor?`.)"
   ]
  },
  {
   "cell_type": "code",
   "execution_count": 14,
   "metadata": {},
   "outputs": [
    {
     "data": {
      "image/png": "[encoded data removed]",
      "text/latex": [
       "$$\\frac{1}{5 z^{\\frac{3}{2}}} \\left(45 x^{2} z^{\\frac{3}{2}} + 30 x z^{\\frac{3}{2}} + 6 \\sqrt{5} x z \\cos{\\left (4 y \\right )} + \\sqrt{z} \\cos^{2}{\\left (4 y \\right )} + 2 \\sqrt{5} z \\cos{\\left (4 y \\right )}\\right)$$"
      ],
      "text/plain": [
       "    2  3/2         3/2                             2                       \n",
       "45⋅x ⋅z    + 30⋅x⋅z    + 6⋅√5⋅x⋅z⋅cos(4⋅y) + √z⋅cos (4⋅y) + 2⋅√5⋅z⋅cos(4⋅y)\n",
       "───────────────────────────────────────────────────────────────────────────\n",
       "                                      3/2                                  \n",
       "                                   5⋅z                                     "
      ]
     },
     "execution_count": 14,
     "metadata": {},
     "output_type": "execute_result"
    }
   ],
   "source": [
    "sym.factor(combined)"
   ]
  },
  {
   "cell_type": "markdown",
   "metadata": {},
   "source": [
    "### <font color='orange'>Your Turn</font>\n",
    "Get the result of\n",
    "$$ E_1 - 5E_2 $$\n",
    "into the simplest result **you can** and output the result."
   ]
  },
  {
   "cell_type": "code",
   "execution_count": null,
   "metadata": {},
   "outputs": [],
   "source": [
    "# Your Code Here"
   ]
  },
  {
   "cell_type": "markdown",
   "metadata": {},
   "source": [
    "### Solving Equations\n",
    "Perhaps one of the nicest aspects of Sympy is its ability to numerically solve an expression for a particular variable, _or to solve systems of equations for several variables_. The notation is very similar to Mathematica, where you provide first the expression and then the desired variable(s) to solve for."
   ]
  },
  {
   "cell_type": "code",
   "execution_count": 16,
   "metadata": {},
   "outputs": [
    {
     "data": {
      "image/png": "[encoded data removed]",
      "text/latex": [
       "$$\\left [ - \\sqrt{- \\frac{\\sqrt{17}}{2} + \\frac{5}{2}}, \\quad \\sqrt{- \\frac{\\sqrt{17}}{2} + \\frac{5}{2}}, \\quad - \\sqrt{\\frac{\\sqrt{17}}{2} + \\frac{5}{2}}, \\quad \\sqrt{\\frac{\\sqrt{17}}{2} + \\frac{5}{2}}\\right ]$$"
      ],
      "text/plain": [
       "⎡     ___________      ___________       _________      _________⎤\n",
       "⎢    ╱   √17   5      ╱   √17   5       ╱ √17   5      ╱ √17   5 ⎥\n",
       "⎢-  ╱  - ─── + ─ ,   ╱  - ─── + ─ , -  ╱  ─── + ─ ,   ╱  ─── + ─ ⎥\n",
       "⎣ ╲╱      2    2   ╲╱      2    2    ╲╱    2    2   ╲╱    2    2 ⎦"
      ]
     },
     "execution_count": 16,
     "metadata": {},
     "output_type": "execute_result"
    }
   ],
   "source": [
    "newexpr = x**4 - 5*x**2 + 2\n",
    "sym.solve(newexpr, x)"
   ]
  },
  {
   "cell_type": "markdown",
   "metadata": {},
   "source": [
    "Two things to note:\n",
    "* Solutions are returned as a list, so you could save them as a variable and then access them with an index later\n",
    "* I never set what the expression was equal to! **By default, Sympy assumes expressions are equal to 0.**\n",
    "\n",
    "If you have an expression that is _not_ equal to 0, you can either rearrange it to get everything on one side or you can use `sym.Eq( lhs, rhs )` where the two arguments are the left and right hand sides of your equation. For example, to get the 3rd solution to $x^4 - 5x^2 + 2 = -3$ I could go:"
   ]
  },
  {
   "cell_type": "code",
   "execution_count": 17,
   "metadata": {},
   "outputs": [
    {
     "data": {
      "image/png": "[encoded data removed]",
      "text/latex": [
       "$$- \\sqrt{\\frac{\\sqrt{5}}{2} + \\frac{5}{2}}$$"
      ],
      "text/plain": [
       "     ________\n",
       "    ╱ √5   5 \n",
       "-  ╱  ── + ─ \n",
       " ╲╱   2    2 "
      ]
     },
     "execution_count": 17,
     "metadata": {},
     "output_type": "execute_result"
    }
   ],
   "source": [
    "sols = sym.solve(sym.Eq(newexpr,-3), x)\n",
    "sols[2] # 2 for the 3rd solution since Python starts at 0"
   ]
  },
  {
   "cell_type": "markdown",
   "metadata": {},
   "source": [
    "### <font color='orange'>Your Turn</font>\n",
    "Using your same expressions from earlier, solve the equation\n",
    "$$ 2E_1 + 4 = E_2 $$\n",
    "for $t$ and display all solutions."
   ]
  },
  {
   "cell_type": "code",
   "execution_count": null,
   "metadata": {},
   "outputs": [],
   "source": [
    "# Your code here"
   ]
  },
  {
   "cell_type": "markdown",
   "metadata": {},
   "source": [
    "### Making Substitutions\n",
    "Finally, a basic task that you often might like to do is substitute different values in for your symbolic variables. Maybe you want to evaluate your expression when $x=3$, or maybe you want to make a change of variables to $x=t^2$. For these situations, the `subs` command is Sympy is your friend. Suppose I have an expression $x^2 + 4x - 1$:"
   ]
  },
  {
   "cell_type": "code",
   "execution_count": 19,
   "metadata": {},
   "outputs": [
    {
     "data": {
      "image/png": "[encoded data removed]",
      "text/latex": [
       "$$x^{2} + 4 x - y$$"
      ],
      "text/plain": [
       " 2          \n",
       "x  + 4⋅x - y"
      ]
     },
     "execution_count": 19,
     "metadata": {},
     "output_type": "execute_result"
    }
   ],
   "source": [
    "expr3 = x**2 + 4*x - y\n",
    "expr3"
   ]
  },
  {
   "cell_type": "markdown",
   "metadata": {},
   "source": [
    "I can substitute in a value like:"
   ]
  },
  {
   "cell_type": "code",
   "execution_count": 20,
   "metadata": {},
   "outputs": [
    {
     "data": {
      "image/png": "[encoded data removed]",
      "text/latex": [
       "$$- y + 21$$"
      ],
      "text/plain": [
       "-y + 21"
      ]
     },
     "execution_count": 20,
     "metadata": {},
     "output_type": "execute_result"
    }
   ],
   "source": [
    "expr3.subs(x,3) # variable first, then value"
   ]
  },
  {
   "cell_type": "markdown",
   "metadata": {},
   "source": [
    "Or you can substitute multiple values or terms like:"
   ]
  },
  {
   "cell_type": "code",
   "execution_count": 21,
   "metadata": {},
   "outputs": [
    {
     "data": {
      "image/png": "[encoded data removed]",
      "text/latex": [
       "$$t^{4} + 4 t^{2} - 10$$"
      ],
      "text/plain": [
       " 4      2     \n",
       "t  + 4⋅t  - 10"
      ]
     },
     "execution_count": 21,
     "metadata": {},
     "output_type": "execute_result"
    }
   ],
   "source": [
    "expr3.subs( [(x,t**2), (y,10)]) # sub x -> t**2 and y -> 10\n",
    "\n",
    "# If you like, you can also use a dictionary for this and it is a bit cleaner imho\n",
    "# expr3.subs({x:t**2, y:10})"
   ]
  },
  {
   "cell_type": "markdown",
   "metadata": {},
   "source": [
    "### <font color='orange'>Your Turn</font>\n",
    "Evaluate and expand the expression\n",
    "$$ E_1^3 - 10 E_2 $$\n",
    "when $t=y^2$ and $x=2$."
   ]
  },
  {
   "cell_type": "code",
   "execution_count": 7,
   "metadata": {},
   "outputs": [],
   "source": [
    "#Your Code Here"
   ]
  },
  {
   "cell_type": "markdown",
   "metadata": {},
   "source": [
    "## 2. Basic Calculus <a name='calc'></a>\n",
    "In addition to make algebra, frequently we might want a little help or desire to check our work on some calculus. Sympy is fully capable of doing derivatives and integration given the frameworks we have created. Derivatives utilize the `diff` command, and can again be written in either `sym.diff()` or `expr.diff()` formats. Recalling that our 3rd sample expression looked like:"
   ]
  },
  {
   "cell_type": "code",
   "execution_count": 23,
   "metadata": {},
   "outputs": [
    {
     "data": {
      "image/png": "[encoded data removed]",
      "text/latex": [
       "$$x^{2} + 4 x - y$$"
      ],
      "text/plain": [
       " 2          \n",
       "x  + 4⋅x - y"
      ]
     },
     "execution_count": 23,
     "metadata": {},
     "output_type": "execute_result"
    }
   ],
   "source": [
    "expr3"
   ]
  },
  {
   "cell_type": "markdown",
   "metadata": {},
   "source": [
    "### Derivatives\n",
    "We can take a derivative with respect to $x$:"
   ]
  },
  {
   "cell_type": "code",
   "execution_count": 24,
   "metadata": {},
   "outputs": [
    {
     "data": {
      "image/png": "[encoded data removed]",
      "text/latex": [
       "$$2 x + 4$$"
      ],
      "text/plain": [
       "2⋅x + 4"
      ]
     },
     "execution_count": 24,
     "metadata": {},
     "output_type": "execute_result"
    }
   ],
   "source": [
    "expr3.diff(x)"
   ]
  },
  {
   "cell_type": "markdown",
   "metadata": {},
   "source": [
    "Note that this is really the partial derivative, as it treats $y$ like a constant! If your function has only a single variable, you don't need to specify the derivative variable. You can do multiple differentiations easily by passing a number after the variable. So, for example, the 2nd derivative of the above would just be:"
   ]
  },
  {
   "cell_type": "code",
   "execution_count": 25,
   "metadata": {},
   "outputs": [
    {
     "data": {
      "image/png": "[encoded data removed]",
      "text/latex": [
       "$$2$$"
      ],
      "text/plain": [
       "2"
      ]
     },
     "execution_count": 25,
     "metadata": {},
     "output_type": "execute_result"
    }
   ],
   "source": [
    "sym.diff(expr3, x, 2)\n",
    "# or expr3.diff(x,2)"
   ]
  },
  {
   "cell_type": "markdown",
   "metadata": {},
   "source": [
    "### <font color='orange'>Your Turn</font>\n",
    "Find all points where the function\n",
    "$$ x^3 + (x-3)^2 +2 $$\n",
    "has a slope of 1."
   ]
  },
  {
   "cell_type": "code",
   "execution_count": 12,
   "metadata": {},
   "outputs": [],
   "source": [
    "# Your Code Here"
   ]
  },
  {
   "cell_type": "markdown",
   "metadata": {},
   "source": [
    "### Integration\n",
    "We can do integration in a similar and easy fashion. For an indefinite integral:"
   ]
  },
  {
   "cell_type": "code",
   "execution_count": 27,
   "metadata": {},
   "outputs": [
    {
     "data": {
      "image/png": "[encoded data removed]",
      "text/latex": [
       "$$- \\frac{y^{2}}{2} + y \\left(x^{2} + 4 x\\right)$$"
      ],
      "text/plain": [
       "   2               \n",
       "  y      ⎛ 2      ⎞\n",
       "- ── + y⋅⎝x  + 4⋅x⎠\n",
       "  2                "
      ]
     },
     "execution_count": 27,
     "metadata": {},
     "output_type": "execute_result"
    }
   ],
   "source": [
    "expr3.integrate(y)"
   ]
  },
  {
   "cell_type": "markdown",
   "metadata": {},
   "source": [
    "If you want limits along with your integral, include the variable of integration and the upper and lower limits in a tuple. So\n",
    "$$ \\int_0^{10} x^2 + 4x-y \\, dy$$\n",
    "is:"
   ]
  },
  {
   "cell_type": "code",
   "execution_count": 28,
   "metadata": {},
   "outputs": [
    {
     "data": {
      "image/png": "[encoded data removed]",
      "text/latex": [
       "$$10 x^{2} + 40 x - 50$$"
      ],
      "text/plain": [
       "    2            \n",
       "10⋅x  + 40⋅x - 50"
      ]
     },
     "execution_count": 28,
     "metadata": {},
     "output_type": "execute_result"
    }
   ],
   "source": [
    "expr3.integrate( (y,0,10) )"
   ]
  },
  {
   "cell_type": "markdown",
   "metadata": {},
   "source": [
    "We can even do multiple integration steps easily be chaining together more integration variables. \n",
    "\n",
    "So\n",
    "$$ \\int_0^{10} \\int_{-2}^2 x^2 + 4x - y \\, dx \\, dy $$\n",
    "will just be:\n"
   ]
  },
  {
   "cell_type": "code",
   "execution_count": 29,
   "metadata": {},
   "outputs": [
    {
     "data": {
      "image/png": "[encoded data removed]",
      "text/latex": [
       "$$- \\frac{440}{3}$$"
      ],
      "text/plain": [
       "-440/3"
      ]
     },
     "execution_count": 29,
     "metadata": {},
     "output_type": "execute_result"
    }
   ],
   "source": [
    "expr3.integrate( (x,-2,2), (y,0,10) )"
   ]
  },
  {
   "cell_type": "markdown",
   "metadata": {},
   "source": [
    "### <font color='orange'>Your Turn</font>\n",
    "The area of a particular triangle is given by\n",
    "$$ \\int_0^{10} \\int_{x/2}^{3x} dy\\,dx $$\n",
    "Determine what that area is."
   ]
  },
  {
   "cell_type": "markdown",
   "metadata": {},
   "source": [
    "<div class='alert alert-info'>\n",
    "When integrating constants, you need to use the <code>sym.integrate(expr, limits)</code> form of the integrate function, else Sympy will complain that it doesn't know how to integrate a number.\n",
    "</div>"
   ]
  },
  {
   "cell_type": "code",
   "execution_count": null,
   "metadata": {},
   "outputs": [],
   "source": [
    "# Your code here"
   ]
  },
  {
   "cell_type": "markdown",
   "metadata": {},
   "source": [
    "## 3. Vector Calculus <a name='vcalc'></a>\n",
    "Finally, we are going to be doing a *lot* of vector calculus this semester, and it would be nice to have a way to compute or check our work when finding gradients, divergences and curls! Sympy still has us covered here, but it is going to be a little more convoluted (which, I suppose, makes since given that vector calc is just another layer atop normal calculus...). To begin, we need to import a new sub-module of sympy: the vector module."
   ]
  },
  {
   "cell_type": "code",
   "execution_count": 31,
   "metadata": {},
   "outputs": [],
   "source": [
    "import sympy.vector as sv"
   ]
  },
  {
   "cell_type": "markdown",
   "metadata": {},
   "source": [
    "Now, when dealing with vectors, our coordinate system is extremely important. Thus everything vector related in Sympy has to start out with defining a coordinate system. For a standard Cartesion coordinate system, we can do:"
   ]
  },
  {
   "cell_type": "code",
   "execution_count": 55,
   "metadata": {},
   "outputs": [],
   "source": [
    "R = sv.CoordSys3D('R', vector_names=['x','y','z'])"
   ]
  },
  {
   "cell_type": "markdown",
   "metadata": {},
   "source": [
    "<div class='alert alert-warning'>\n",
    "If you are using an older version of Sympy, you might not have the CoordSys3D function. In this case you'll need to use CoordSysCartesian (I think) to get the old version. Then everything will mostly be the same except for when taking gradients, divergences and curls you'll need to specify the coordinate system as well. Using <code>?</code> will help you get the syntax correct.\n",
    "\n",
    "Or you could just update Sympy.\n",
    "</div>"
   ]
  },
  {
   "cell_type": "markdown",
   "metadata": {},
   "source": [
    "This creates our Cartesian coordinate system and names it `R`. It also specifies that we want our unit vectors to display as $\\hat{x}$, $\\hat{y}$, etc.  If we want to refer to unit vectors in this coordinate system, we will use `R.i, R.j,` and `R.k` (unfortunately we can't change this). So I could define a simple vector as:"
   ]
  },
  {
   "cell_type": "code",
   "execution_count": 56,
   "metadata": {},
   "outputs": [
    {
     "data": {
      "image/png": "[encoded data removed]",
      "text/latex": [
       "$$\\mathbf{\\hat{x}_{R}} + (2)\\mathbf{\\hat{y}_{R}} + (3)\\mathbf{\\hat{z}_{R}}$$"
      ],
      "text/plain": [
       "x + 2*y + 3*z"
      ]
     },
     "execution_count": 56,
     "metadata": {},
     "output_type": "execute_result"
    }
   ],
   "source": [
    "v1 = 1*R.i + 2*R.j + 3*R.k\n",
    "v1"
   ]
  },
  {
   "cell_type": "markdown",
   "metadata": {},
   "source": [
    "And we see it shows up with the nice notation. If we want to refer to the _variable_ $x$ in the $R$ coordinate system, we need to use `R.x`. So the vector\n",
    "$$ \\vec{v} = x \\hat{x} + y\\hat{y} + z\\hat{z} $$\n",
    "would be written as:"
   ]
  },
  {
   "cell_type": "code",
   "execution_count": 57,
   "metadata": {},
   "outputs": [
    {
     "data": {
      "image/png": "[encoded data removed]",
      "text/latex": [
       "$$(\\mathbf{{x}_{R}})\\mathbf{\\hat{x}_{R}} + (\\mathbf{{y}_{R}})\\mathbf{\\hat{y}_{R}} + (\\mathbf{{z}_{R}})\\mathbf{\\hat{z}_{R}}$$"
      ],
      "text/plain": [
       "R.x*x + R.y*y + R.z*z"
      ]
     },
     "execution_count": 57,
     "metadata": {},
     "output_type": "execute_result"
    }
   ],
   "source": [
    "v2 = R.x * R.i + R.y * R.j + R.z * R.k\n",
    "v2"
   ]
  },
  {
   "cell_type": "markdown",
   "metadata": {},
   "source": [
    "It is easy to get mixed up with using `R.x` for the $\\hat{x}$ unit vector, so be careful. Even if you have an expression with standard Sympy symbolic $x$ or $y$'s in it, you need to convert (or substitute) those to `R.x`'s and `R.y`'s before trying to do any vector operations on it!"
   ]
  },
  {
   "cell_type": "markdown",
   "metadata": {},
   "source": [
    "Now that you can create vectors, you can add, subtract, dot or cross vectors like you'd expect:"
   ]
  },
  {
   "cell_type": "code",
   "execution_count": 58,
   "metadata": {},
   "outputs": [
    {
     "data": {
      "image/png": "[encoded data removed]",
      "text/latex": [
       "$$(\\mathbf{{x}_{R}} + 1)\\mathbf{\\hat{x}_{R}} + (\\mathbf{{y}_{R}} + 2)\\mathbf{\\hat{y}_{R}} + (\\mathbf{{z}_{R}} + 3)\\mathbf{\\hat{z}_{R}}$$"
      ],
      "text/plain": [
       "(R.x + 1)*x + (R.y + 2)*y + (R.z + 3)*z"
      ]
     },
     "execution_count": 58,
     "metadata": {},
     "output_type": "execute_result"
    }
   ],
   "source": [
    "v1+v2"
   ]
  },
  {
   "cell_type": "code",
   "execution_count": 59,
   "metadata": {},
   "outputs": [
    {
     "data": {
      "image/png": "[encoded data removed]",
      "text/latex": [
       "$$\\mathbf{{x}_{R}} + 2 \\mathbf{{y}_{R}} + 3 \\mathbf{{z}_{R}}$$"
      ],
      "text/plain": [
       "R_x + 2⋅R_y + 3⋅R_z"
      ]
     },
     "execution_count": 59,
     "metadata": {},
     "output_type": "execute_result"
    }
   ],
   "source": [
    "v1.dot(v2)"
   ]
  },
  {
   "cell_type": "code",
   "execution_count": 60,
   "metadata": {},
   "outputs": [
    {
     "data": {
      "image/png": "[encoded data removed]",
      "text/latex": [
       "$$(- 3 \\mathbf{{y}_{R}} + 2 \\mathbf{{z}_{R}})\\mathbf{\\hat{x}_{R}} + (3 \\mathbf{{x}_{R}} - \\mathbf{{z}_{R}})\\mathbf{\\hat{y}_{R}} + (- 2 \\mathbf{{x}_{R}} + \\mathbf{{y}_{R}})\\mathbf{\\hat{z}_{R}}$$"
      ],
      "text/plain": [
       "(-3*R.y + 2*R.z)*x + (3*R.x - R.z)*y + (-2*R.x + R.y)*z"
      ]
     },
     "execution_count": 60,
     "metadata": {},
     "output_type": "execute_result"
    }
   ],
   "source": [
    "v1.cross(v2)"
   ]
  },
  {
   "cell_type": "code",
   "execution_count": 61,
   "metadata": {},
   "outputs": [
    {
     "data": {
      "image/png": "[encoded data removed]",
      "text/latex": [
       "$$\\sqrt{14}$$"
      ],
      "text/plain": [
       "√14"
      ]
     },
     "execution_count": 61,
     "metadata": {},
     "output_type": "execute_result"
    }
   ],
   "source": [
    "v1.magnitude()"
   ]
  },
  {
   "cell_type": "markdown",
   "metadata": {},
   "source": [
    "### <font color='orange'>Your Turn</font>\n",
    "What is a **unit** vector that is perpendicular to both\n",
    "\\begin{align}\n",
    "\\vec{v}_1 &= 4\\hat{x} + 2\\hat{y} -6 \\hat{z} \\\\\n",
    "\\vec{v}_2 &= -3\\hat{x} -\\hat{y} + 8 \\hat{z}\n",
    "\\end{align}\n",
    "? "
   ]
  },
  {
   "cell_type": "code",
   "execution_count": 25,
   "metadata": {},
   "outputs": [],
   "source": [
    "# Your Code Here"
   ]
  },
  {
   "cell_type": "markdown",
   "metadata": {},
   "source": [
    "### Complex Vector Calculus\n",
    "We can also do more complex vector calculus involving gradients, divergences and curls. Say we have the potential energy equation\n",
    "$$ U(x,y) = 5x + \\cos(xy) $$\n",
    "And we'd like to find an expression for the force. Doing so requires us to take a gradient, since\n",
    "$$ \\vec{F} = -\\nabla U $$\n",
    "We'll go ahead and define our potential energy first and make sure it looks ok:"
   ]
  },
  {
   "cell_type": "code",
   "execution_count": 63,
   "metadata": {},
   "outputs": [
    {
     "data": {
      "image/png": "[encoded data removed]",
      "text/latex": [
       "$$\\cos{\\left (\\mathbf{{x}_{R}} \\mathbf{{y}_{R}} \\right )} + 5 \\mathbf{{x}_{R}}$$"
      ],
      "text/plain": [
       "cos(R_x⋅R_y) + 5⋅R_x"
      ]
     },
     "execution_count": 63,
     "metadata": {},
     "output_type": "execute_result"
    }
   ],
   "source": [
    "U = 5*R.x + sym.cos(R.x * R.y)\n",
    "U"
   ]
  },
  {
   "cell_type": "markdown",
   "metadata": {},
   "source": [
    "And then we can just use the vector modules `gradient` command to compute the gradient:"
   ]
  },
  {
   "cell_type": "code",
   "execution_count": 64,
   "metadata": {},
   "outputs": [
    {
     "data": {
      "image/png": "[encoded data removed]",
      "text/latex": [
       "$$(\\sin{\\left (\\mathbf{{x}_{R}} \\mathbf{{y}_{R}} \\right )} \\mathbf{{y}_{R}} - 5)\\mathbf{\\hat{x}_{R}} + (\\sin{\\left (\\mathbf{{x}_{R}} \\mathbf{{y}_{R}} \\right )} \\mathbf{{x}_{R}})\\mathbf{\\hat{y}_{R}}$$"
      ],
      "text/plain": [
       "(sin(R.x*R.y)*R.y - 5)*x + (sin(R.x*R.y)*R.x)*y"
      ]
     },
     "execution_count": 64,
     "metadata": {},
     "output_type": "execute_result"
    }
   ],
   "source": [
    "F = -sv.gradient(U)\n",
    "F.simplify()"
   ]
  },
  {
   "cell_type": "markdown",
   "metadata": {},
   "source": [
    "Now that we have a vector expression we can go ahead and calculate the divergence and curl of $\\vec{F}$:"
   ]
  },
  {
   "cell_type": "code",
   "execution_count": 65,
   "metadata": {},
   "outputs": [
    {
     "data": {
      "image/png": "[encoded data removed]",
      "text/latex": [
       "$$\\cos{\\left (\\mathbf{{x}_{R}} \\mathbf{{y}_{R}} \\right )} \\mathbf{{x}_{R}}^{2} + \\cos{\\left (\\mathbf{{x}_{R}} \\mathbf{{y}_{R}} \\right )} \\mathbf{{y}_{R}}^{2}$$"
      ],
      "text/plain": [
       "                2                   2\n",
       "cos(R_x⋅R_y)⋅R_x  + cos(R_x⋅R_y)⋅R_y "
      ]
     },
     "execution_count": 65,
     "metadata": {},
     "output_type": "execute_result"
    }
   ],
   "source": [
    "sv.divergence(F)"
   ]
  },
  {
   "cell_type": "code",
   "execution_count": 66,
   "metadata": {},
   "outputs": [
    {
     "data": {
      "image/png": "[encoded data removed]",
      "text/latex": [
       "$$\\mathbf{\\hat{0}}$$"
      ],
      "text/plain": [
       "0"
      ]
     },
     "execution_count": 66,
     "metadata": {},
     "output_type": "execute_result"
    }
   ],
   "source": [
    "sv.curl(F) # Conservative forces yo!"
   ]
  },
  {
   "cell_type": "markdown",
   "metadata": {},
   "source": [
    "### <font color='orange'>Your Turn</font>\n",
    "Calculate the divergence of the force field corresponding to a potential energy of\n",
    "$$ U(x,y,z) = \\frac{x^2 y}{5} + \\sin(y^2)\\cdot z $$\n",
    "and determine if the divergence is positive or negative at the point (2,4,6)."
   ]
  },
  {
   "cell_type": "code",
   "execution_count": 31,
   "metadata": {},
   "outputs": [],
   "source": [
    "# Your Code Here"
   ]
  },
  {
   "cell_type": "markdown",
   "metadata": {},
   "source": [
    "## Saving your Work!\n",
    "Generally you are going to need to output the results of your notebook in a pdf so you can attach or combine it with your homework. If you have LaTeX installed on your system already, you might be able to use the download as pdf option from the File Menu. It might require installing a few extra packages to get functional, but if you go that route everything will get run through LaTeX and then the pdf will be generated from that. Another option that you might have is to use \"Print Preview\" to render the page as pure html and then print the webpage to pdf. If your computer isn't giving you a \"Pdf Printer\" as an option, you can also download the file as html and then use a service like this site [here](https://www.sejda.com/html-to-pdf) to convert the html page to a pdf. In some ways I think the best results might actually come from the last option, but any will work! Through whatever means necessary go ahead and save this completed notebook as a pdf and then **upload it to Gradescope**."
   ]
  }
 ],
 "metadata": {
  "kernelspec": {
   "display_name": "Python 3",
   "language": "python",
   "name": "python3"
  },
  "language_info": {
   "codemirror_mode": {
    "name": "ipython",
    "version": 3
   },
   "file_extension": ".py",
   "mimetype": "text/x-python",
   "name": "python",
   "nbconvert_exporter": "python",
   "pygments_lexer": "ipython3",
   "version": "3.6.5"
  }
 },
 "nbformat": 4,
 "nbformat_minor": 2
}
