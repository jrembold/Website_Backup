{
 "cells": [
  {
   "cell_type": "markdown",
   "metadata": {},
   "source": [
    "# Modeling the motion of a charge in a magnetic field\n",
    "In this problem, you will flesh out the essential computational physics to model the motion of a charged particle in a magnetic filed. The force acting on such a particle is given by:\n",
    "$$ \\mathbf{\\vec{F}} = q \\mathbf{\\vec{v}} \\times \\mathbf{\\vec{B}} $$\n",
    "The code below sets up the initial parameters and conditions that you will need and provides a loose loop structure for you to augment with the needed physics. You'll need to provide steps in the loop to:\n",
    "1. Computer the magnetic force\n",
    "2. Update the velocity by numeric integration (Euler Method: $v_f = v_i + a \\Delta t$)\n",
    "3. Update the position by numeric integration (Euler Method: $r_f = r_i + v_f \\Delta t$)\n",
    "\n",
    "After you complete the numeric integration, I ask you to plot the motion in 3 dimensions.\n",
    "\n",
    "You'll be doing the numerical integration for parts A and B of the problem. Part C requires no Euler's method, and is just calculating and plotting a complex magnetic field."
   ]
  },
  {
   "cell_type": "markdown",
   "metadata": {},
   "source": [
    "## Importing the needed bits\n",
    "This should be old hat to you by now, but my normal import list for numeric work looks like:"
   ]
  },
  {
   "cell_type": "code",
   "execution_count": 6,
   "metadata": {},
   "outputs": [],
   "source": [
    "%matplotlib inline\n",
    "import matplotlib.pyplot as plt\n",
    "from mpl_toolkits.mplot3d import Axes3D #for 3D plotting\n",
    "import numpy as np\n",
    "plt.style.use('seaborn-darkgrid')"
   ]
  },
  {
   "cell_type": "markdown",
   "metadata": {},
   "source": [
    "## Setting up constants and initializing vectors:\n",
    "Go ahead and define constants specific to the problem. I'd suggest a very small `dt` value for good results."
   ]
  },
  {
   "cell_type": "code",
   "execution_count": 7,
   "metadata": {},
   "outputs": [],
   "source": [
    "mp = 1.67e-27 # mass of proton in kilogram\n",
    "qp = 1.602e-19 # charge of proton in coulomb\n",
    "\n",
    "vp = 1e3 # speed of proton in meter/second\n",
    "B0 = 1e-4 # magnitude of magnetic field in tesla\n",
    "\n",
    "dt = 1e-8 # time step in seconds\n",
    "ts = np.arange(0,0.005,dt)"
   ]
  },
  {
   "cell_type": "markdown",
   "metadata": {},
   "source": [
    "Then we need to make sure we have our arrays initialized. The velocity and magnetic field are fairly straightforward because you are just multiplying by the unit vectors. For the arrays to hold all the particle velocity and position data though, make sure you understand what is going on. We are creating an empty array of 0's that has the same number of rows as `ts` (since we'll get a new velocity and position for each time step) and which has 3 columns (since we need to keep track of velocity and position in the $x$,$y$, and $z$ directions."
   ]
  },
  {
   "cell_type": "code",
   "execution_count": 8,
   "metadata": {},
   "outputs": [],
   "source": [
    "v = vp * np.array([1,0,0])\n",
    "B = B0 * np.array([0,1,0])\n",
    "\n",
    "rp = np.zeros( (len(ts), 3) )\n",
    "vp = np.zeros( (len(ts), 3) )"
   ]
  },
  {
   "cell_type": "markdown",
   "metadata": {},
   "source": [
    "Then we just need to make sure the initial conditions are correct. In other words, we need to make sure the first row of our `rp` and `vp` arrays represents our particle's starting velocity and position."
   ]
  },
  {
   "cell_type": "code",
   "execution_count": 4,
   "metadata": {},
   "outputs": [],
   "source": [
    "rp[0,:] = np.array([0,0,0]) # technically not needed here since already 0\n",
    "vp[0,:] = v"
   ]
  },
  {
   "cell_type": "markdown",
   "metadata": {},
   "source": [
    "## Integration Loop:\n",
    "I create the outline of the integration loop below, but leave you to fill in the physics bits. Remember that you need to:\n",
    "1. Calculate the current magnetic force on the particle (as a vector)\n",
    "2. Update the velocity via Euler\n",
    "3. Update the position via Euler"
   ]
  },
  {
   "cell_type": "code",
   "execution_count": null,
   "metadata": {},
   "outputs": [],
   "source": [
    "for i in range (0, len(ts)-1):\n",
    "    # Input lovely physics here!"
   ]
  }
 ],
 "metadata": {
  "kernelspec": {
   "display_name": "Python 3",
   "language": "python",
   "name": "python3"
  },
  "language_info": {
   "codemirror_mode": {
    "name": "ipython",
    "version": 3
   },
   "file_extension": ".py",
   "mimetype": "text/x-python",
   "name": "python",
   "nbconvert_exporter": "python",
   "pygments_lexer": "ipython3",
   "version": "3.7.0"
  }
 },
 "nbformat": 4,
 "nbformat_minor": 2
}
