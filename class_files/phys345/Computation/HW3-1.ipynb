{
 "cells": [
  {
   "cell_type": "markdown",
   "metadata": {},
   "source": [
    "# Numerically Determining Motion\n",
    "\n",
    "## The Setup\n",
    "Frequently you might come across a differential equation that, while explaining the physics behind some motion, is nonetheless unsolvable using analytic techniques. In these cases using numerical techniques is one attractive option.\n",
    "\n",
    "Most all numerical technique work best with 1st order differential equations. Since we commonly come across 2nd order differential equations in physics, one should get familiar with breaking a second order differential equation down into a series of first order differential equations. For example:\n",
    "$$ \\ddot x = f(x) $$\n",
    "might become\n",
    "\\begin{align}\n",
    "\\dot v &= f(x) \\\\\n",
    "\\dot x &= v \\\\\n",
    "\\end{align}\n",
    "We could rewrite the above equations into computer speak as something like\n",
    "\\begin{align}\n",
    "v_f &= v_i + f(x) \\Delta t \\\\\n",
    "x_f &= x_i + v_f \\Delta t\n",
    "\\end{align}\n",
    "Using the equations in this order is called the Euler-Cromer technique, and is one of the more simple forms of solving differential equations numerically."
   ]
  },
  {
   "cell_type": "code",
   "execution_count": 2,
   "metadata": {},
   "outputs": [],
   "source": [
    "## Needed imports\n",
    "%matplotlib inline\n",
    "import matplotlib.pyplot as plt\n",
    "plt.style.use('fivethirtyeight')\n",
    "import numpy as np"
   ]
  },
  {
   "cell_type": "markdown",
   "metadata": {},
   "source": [
    "## The Example\n",
    "Suppose we had a simple linear force acting on a system that we wanted to solve numerically (for some reason). So say:\n",
    "$$ \\ddot x = 5x $$\n",
    "Our goal is to loop through a series of times, calculating each step of the way the new velocity and position of our particle using the above equations. First we'll create a list of the times we are interested in knowing the particle's position and velocity:"
   ]
  },
  {
   "cell_type": "code",
   "execution_count": 18,
   "metadata": {},
   "outputs": [],
   "source": [
    "dt = 0.1 # Using 0.1 second intervals\n",
    "ts = np.arange(0,2,dt) # 2 seconds of simulation"
   ]
  },
  {
   "cell_type": "markdown",
   "metadata": {},
   "source": [
    "We are going to want positions and velocities at each time step, so we can go ahead and initialize those to zero:"
   ]
  },
  {
   "cell_type": "code",
   "execution_count": 19,
   "metadata": {},
   "outputs": [],
   "source": [
    "xs = np.zeros(len(ts))\n",
    "vs = np.zeros(len(ts))"
   ]
  },
  {
   "cell_type": "markdown",
   "metadata": {},
   "source": [
    "To solve any differential equation, we need to know our initial conditions. Here say we start from rest at the point $x=-5$. We'll declare the first entry of our `xs` and `vs` lists to be this initial value:"
   ]
  },
  {
   "cell_type": "code",
   "execution_count": 20,
   "metadata": {},
   "outputs": [],
   "source": [
    "xs[0] = -5\n",
    "vs[0] = 0"
   ]
  },
  {
   "cell_type": "markdown",
   "metadata": {},
   "source": [
    "Now we are good to go. We'll loop through each time step, updating the velocity, then position for each time interval."
   ]
  },
  {
   "cell_type": "code",
   "execution_count": 21,
   "metadata": {},
   "outputs": [],
   "source": [
    "for i in range(len(ts)-1):\n",
    "    accel = 5*xs[i] #since x double dot is 5x\n",
    "    vs[i+1] = vs[i] + accel * dt\n",
    "    xs[i+1] = xs[i] + vs[i+1] * dt"
   ]
  },
  {
   "cell_type": "markdown",
   "metadata": {},
   "source": [
    "Now results can be plotted!"
   ]
  },
  {
   "cell_type": "code",
   "execution_count": 22,
   "metadata": {},
   "outputs": [
    {
     "data": {
      "image/png": "[encoded data removed]",
      "text/plain": [
       "<Figure size 432x288 with 1 Axes>"
      ]
     },
     "metadata": {
      "needs_background": "light"
     },
     "output_type": "display_data"
    }
   ],
   "source": [
    "plt.plot(ts, xs)\n",
    "plt.xlabel('Time (s)')\n",
    "plt.ylabel('Position (m)')\n",
    "plt.show()"
   ]
  },
  {
   "cell_type": "markdown",
   "metadata": {},
   "source": [
    "## The Problem\n",
    "For your problem, you have worked out the differential equation and been given the relevant initial conditions and constants:"
   ]
  },
  {
   "cell_type": "code",
   "execution_count": 23,
   "metadata": {},
   "outputs": [],
   "source": [
    "# Constants\n",
    "k = 9e9   #1/4πϵ\n",
    "\n",
    "Q = 1e-3  #Charge in ring in C\n",
    "q = 1e-6  #Charge of test charge in C\n",
    "\n",
    "a = 1     #Radius of ring in m\n",
    "m = 1e-3  #Mass of test charge in kg"
   ]
  },
  {
   "cell_type": "markdown",
   "metadata": {},
   "source": [
    "You are interested in your solutions in 1 millisecond time steps from 0 to 0.1 seconds, so:"
   ]
  },
  {
   "cell_type": "code",
   "execution_count": 24,
   "metadata": {},
   "outputs": [],
   "source": [
    "dt = 0.001\n",
    "ts = np.arange(0, 0.1, dt)"
   ]
  },
  {
   "cell_type": "markdown",
   "metadata": {},
   "source": [
    "You can take it from here. I've set up some scaffolding you can follow for help:"
   ]
  },
  {
   "cell_type": "code",
   "execution_count": null,
   "metadata": {},
   "outputs": [],
   "source": [
    "# Setup the zero arrays\n",
    "\n",
    "# Enter initial conditions\n",
    "\n",
    "for i in range(len(ts)-1):\n",
    "    # Calculate your acceleration\n",
    "    \n",
    "    # Update your velocity\n",
    "    \n",
    "    # Update your position\n",
    "    \n",
    "    \n",
    "# Plot your result vs your approximate solution!"
   ]
  },
  {
   "cell_type": "markdown",
   "metadata": {},
   "source": [
    "Remember to get comparison plots for both initial conditions!"
   ]
  }
 ],
 "metadata": {
  "kernelspec": {
   "display_name": "Python 3",
   "language": "python",
   "name": "python3"
  },
  "language_info": {
   "codemirror_mode": {
    "name": "ipython",
    "version": 3
   },
   "file_extension": ".py",
   "mimetype": "text/x-python",
   "name": "python",
   "nbconvert_exporter": "python",
   "pygments_lexer": "ipython3",
   "version": "3.7.0"
  }
 },
 "nbformat": 4,
 "nbformat_minor": 2
}
